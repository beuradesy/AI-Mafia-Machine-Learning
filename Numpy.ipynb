{
 "cells": [
  {
   "cell_type": "markdown",
   "source": [
    "# Rough"
   ],
   "metadata": {}
  }
 ],
 "metadata": {
  "orig_nbformat": 4,
  "language_info": {
   "name": "python",
   "version": "3.8.0"
  },
  "kernelspec": {
   "name": "python3",
   "display_name": "Python 3.8.0 64-bit"
  },
  "interpreter": {
   "hash": "4447cc7378cf30879333494e5d460e5c62c12902847286c87503f98d25a71d26"
  }
 },
 "nbformat": 4,
 "nbformat_minor": 2
}